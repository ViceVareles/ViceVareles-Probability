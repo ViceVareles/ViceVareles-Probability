{
 "cells": [
  {
   "cell_type": "markdown",
   "id": "a41f3622",
   "metadata": {},
   "source": [
    "# Ejercicios de probabilidad"
   ]
  },
  {
   "cell_type": "markdown",
   "id": "a6bdbd89",
   "metadata": {},
   "source": [
    "## Ejercicio 1 \n",
    "\n",
    "Dos dados se lanzan una vez y se observa el total obtenido. Usa una simulación para encontrar la probabilidad estimada de que la puntuación sea mayor a 7 o un número par. Una simulación es una repetición del mismo experimento multiples veces para observar su comportamiento:\n",
    "\n",
    "- Ejecuta el experimento 1000 veces (lanza 2 dados 1000 veces, y suma el número de ambos dados).\n",
    "- Lleva una cuenta de los números y las veces que la suma fue mayor a 7 o un número par.\n",
    "- Divide el número del paso 2 entre el número de iteraciones(1000)."
   ]
  },
  {
   "cell_type": "code",
   "execution_count": 1,
   "id": "0b9b716f",
   "metadata": {},
   "outputs": [],
   "source": [
    "import numpy as np"
   ]
  },
  {
   "cell_type": "markdown",
   "id": "7ec79405",
   "metadata": {},
   "source": [
    "### Declarar las variables y simular"
   ]
  },
  {
   "cell_type": "code",
   "execution_count": 2,
   "id": "8939d892",
   "metadata": {},
   "outputs": [
    {
     "data": {
      "text/plain": [
       "np.float64(0.7)"
      ]
     },
     "execution_count": 2,
     "metadata": {},
     "output_type": "execute_result"
    }
   ],
   "source": [
    "lanzamientos = 100\n",
    "dado1 = np.random.randint(1, 7, lanzamientos)  \n",
    "dado2 = np.random.randint(1, 7, lanzamientos)\n",
    "suma = dado1 + dado2\n",
    "condicion1 = (suma > 7) | (suma %2 == 0)\n",
    "cumplen = np.sum(condicion1)\n",
    "probabilidad_cumplen = cumplen / lanzamientos\n",
    "probabilidad_cumplen"
   ]
  },
  {
   "cell_type": "markdown",
   "id": "e9f231da",
   "metadata": {},
   "source": [
    "### Podemos concluir que la probabilidad siempre va a estar entre el 60 y 70 % no incluidos."
   ]
  },
  {
   "cell_type": "markdown",
   "id": "55732bca",
   "metadata": {},
   "source": [
    "## Ejercicio 2\n",
    "\n",
    "Una caja contiene 10 bolas blancas, 20 bolas rojas y 30 bolas verdes. Si tomamos 5 bolas de la caja reemplazándolas (tomando una bola, anotando el color y luego regresandola a la caja). Queremos saber la probabilidad de:\n",
    "\n",
    "1. Tomar 3 blancas y 2 rojas.\n",
    "2. Tomar todas del mismo color.\n",
    "\n",
    "Ejecuta el experimento 1000 veces y calcula las probabilidades que mencionan."
   ]
  },
  {
   "cell_type": "code",
   "execution_count": 3,
   "id": "23244d20",
   "metadata": {},
   "outputs": [
    {
     "name": "stdout",
     "output_type": "stream",
     "text": [
      "{0: 'White', 1: 'White', 2: 'White', 3: 'White', 4: 'White', 5: 'White', 6: 'White', 7: 'White', 8: 'White', 9: 'White', 10: 'Red', 11: 'Red', 12: 'Red', 13: 'Red', 14: 'Red', 15: 'Red', 16: 'Red', 17: 'Red', 18: 'Red', 19: 'Red', 20: 'Red', 21: 'Red', 22: 'Red', 23: 'Red', 24: 'Red', 25: 'Red', 26: 'Red', 27: 'Red', 28: 'Red', 29: 'Red', 30: 'Green', 31: 'Green', 32: 'Green', 33: 'Green', 34: 'Green', 35: 'Green', 36: 'Green', 37: 'Green', 38: 'Green', 39: 'Green', 40: 'Green', 41: 'Green', 42: 'Green', 43: 'Green', 44: 'Green', 45: 'Green', 46: 'Green', 47: 'Green', 48: 'Green', 49: 'Green', 50: 'Green', 51: 'Green', 52: 'Green', 53: 'Green', 54: 'Green', 55: 'Green', 56: 'Green', 57: 'Green', 58: 'Green', 59: 'Green'}\n"
     ]
    }
   ],
   "source": [
    "ball_box = {}\n",
    "\n",
    "# Crea la cajas con las bolas\n",
    "for i in range(60):\n",
    "    if i < 10:\n",
    "        ball_box[i] = \"White\"\n",
    "    elif (i > 9) and (i < 30):\n",
    "        ball_box[i] = \"Red\"\n",
    "    else:\n",
    "        ball_box[i] = \"Green\"\n",
    "\n",
    "print(ball_box)\n",
    "ball_box = np.array(['White'] * 10 + ['Red'] * 20 + ['Green'] * 30)"
   ]
  },
  {
   "cell_type": "code",
   "execution_count": 4,
   "id": "06be6482",
   "metadata": {},
   "outputs": [],
   "source": [
    "tomar_3w2r = 0\n",
    "tomar_3samecolor = 0"
   ]
  },
  {
   "cell_type": "markdown",
   "id": "844fb412",
   "metadata": {},
   "source": [
    "# Contar resultados por cada fila"
   ]
  },
  {
   "cell_type": "code",
   "execution_count": 14,
   "id": "16f0ef6c",
   "metadata": {},
   "outputs": [
    {
     "data": {
      "text/plain": [
       "array([['Green', 'Green', 'White', 'Green', 'Green'],\n",
       "       ['Green', 'White', 'Green', 'Green', 'Red'],\n",
       "       ['White', 'Red', 'Green', 'Red', 'Red'],\n",
       "       ['Red', 'Green', 'Green', 'White', 'Red'],\n",
       "       ['White', 'Green', 'Red', 'Green', 'Green'],\n",
       "       ['Red', 'Red', 'Green', 'Green', 'White'],\n",
       "       ['Green', 'Red', 'Green', 'White', 'Red'],\n",
       "       ['White', 'White', 'Green', 'Green', 'Red'],\n",
       "       ['White', 'Green', 'Red', 'Green', 'Red'],\n",
       "       ['Green', 'Green', 'Green', 'White', 'Red'],\n",
       "       ['Green', 'White', 'Green', 'Red', 'Red'],\n",
       "       ['White', 'Red', 'Green', 'Red', 'Green'],\n",
       "       ['White', 'Red', 'White', 'Green', 'White'],\n",
       "       ['Red', 'White', 'Green', 'White', 'Green'],\n",
       "       ['Red', 'Green', 'White', 'Red', 'Red'],\n",
       "       ['Green', 'Green', 'Green', 'Red', 'Green'],\n",
       "       ['Green', 'White', 'Green', 'Red', 'Green'],\n",
       "       ['White', 'Red', 'Red', 'White', 'White'],\n",
       "       ['Green', 'Green', 'Red', 'Green', 'Green'],\n",
       "       ['White', 'Green', 'Red', 'Green', 'Red'],\n",
       "       ['Green', 'Green', 'Red', 'White', 'Red'],\n",
       "       ['Green', 'White', 'Green', 'Green', 'Red'],\n",
       "       ['Red', 'Green', 'Green', 'Green', 'Green'],\n",
       "       ['Red', 'Green', 'White', 'Green', 'Green'],\n",
       "       ['Red', 'Green', 'Red', 'Red', 'Green'],\n",
       "       ['Red', 'Green', 'White', 'Red', 'White'],\n",
       "       ['Green', 'Green', 'White', 'Red', 'Red'],\n",
       "       ['Green', 'Green', 'Red', 'Green', 'Green'],\n",
       "       ['White', 'Green', 'Green', 'Red', 'Red'],\n",
       "       ['Red', 'White', 'Green', 'Green', 'Green'],\n",
       "       ['Red', 'Red', 'Red', 'Green', 'Green'],\n",
       "       ['Green', 'Green', 'White', 'Red', 'Green'],\n",
       "       ['Red', 'Red', 'Green', 'Green', 'Red'],\n",
       "       ['Green', 'Red', 'Red', 'White', 'White'],\n",
       "       ['White', 'Green', 'White', 'Green', 'Green'],\n",
       "       ['White', 'Green', 'Green', 'White', 'White'],\n",
       "       ['Green', 'Green', 'Red', 'Red', 'White'],\n",
       "       ['Green', 'Green', 'Green', 'Green', 'Green'],\n",
       "       ['White', 'Green', 'Red', 'White', 'Green'],\n",
       "       ['Red', 'Green', 'Green', 'Green', 'Red'],\n",
       "       ['Red', 'Green', 'Red', 'Red', 'Green'],\n",
       "       ['Green', 'White', 'Green', 'Red', 'Red'],\n",
       "       ['Red', 'Green', 'Green', 'Green', 'Green'],\n",
       "       ['Green', 'Green', 'White', 'Red', 'Green'],\n",
       "       ['Green', 'White', 'Red', 'Green', 'Red'],\n",
       "       ['White', 'Red', 'Red', 'Red', 'Red'],\n",
       "       ['Green', 'Red', 'Red', 'Red', 'Green'],\n",
       "       ['White', 'Green', 'Green', 'Green', 'White'],\n",
       "       ['Green', 'Red', 'Red', 'White', 'White'],\n",
       "       ['Green', 'Red', 'Red', 'White', 'White'],\n",
       "       ['Red', 'Red', 'Red', 'Green', 'Green'],\n",
       "       ['White', 'Green', 'Green', 'Green', 'Red'],\n",
       "       ['Red', 'Red', 'Green', 'Green', 'White'],\n",
       "       ['Red', 'Red', 'Red', 'Red', 'White'],\n",
       "       ['Green', 'Green', 'Red', 'Green', 'Green'],\n",
       "       ['Green', 'Red', 'Red', 'Green', 'White'],\n",
       "       ['Green', 'Green', 'White', 'White', 'Green'],\n",
       "       ['Red', 'Green', 'Red', 'Green', 'Green'],\n",
       "       ['Red', 'Green', 'White', 'Red', 'Green'],\n",
       "       ['Green', 'Green', 'Green', 'Green', 'Green'],\n",
       "       ['Red', 'Red', 'White', 'White', 'Green'],\n",
       "       ['Green', 'Red', 'Green', 'Green', 'Green'],\n",
       "       ['Green', 'Red', 'Red', 'Red', 'Green'],\n",
       "       ['Green', 'Red', 'Green', 'Green', 'Red'],\n",
       "       ['Green', 'Red', 'Green', 'White', 'White'],\n",
       "       ['White', 'Green', 'Red', 'Green', 'Green'],\n",
       "       ['White', 'Green', 'Green', 'Green', 'White'],\n",
       "       ['Green', 'White', 'Green', 'Red', 'Green'],\n",
       "       ['Red', 'Green', 'Green', 'White', 'Green'],\n",
       "       ['Red', 'Red', 'Red', 'Red', 'Green'],\n",
       "       ['Green', 'Red', 'White', 'Green', 'Green'],\n",
       "       ['Green', 'Green', 'Red', 'Green', 'Red'],\n",
       "       ['Red', 'Red', 'Green', 'Red', 'Red'],\n",
       "       ['White', 'Green', 'White', 'Green', 'White'],\n",
       "       ['Green', 'White', 'Red', 'Red', 'Red'],\n",
       "       ['White', 'White', 'White', 'Red', 'Green'],\n",
       "       ['Green', 'Red', 'Red', 'Green', 'White'],\n",
       "       ['Green', 'White', 'Green', 'Green', 'Green'],\n",
       "       ['Red', 'Red', 'Green', 'Red', 'Green'],\n",
       "       ['White', 'Red', 'White', 'Green', 'Red'],\n",
       "       ['Green', 'Red', 'Green', 'Green', 'White'],\n",
       "       ['Green', 'Green', 'Green', 'Green', 'Green'],\n",
       "       ['Green', 'White', 'Green', 'Green', 'Red'],\n",
       "       ['Green', 'White', 'Green', 'White', 'Green'],\n",
       "       ['Green', 'Green', 'Red', 'Red', 'Red'],\n",
       "       ['Red', 'Red', 'Green', 'Red', 'Green'],\n",
       "       ['Red', 'Green', 'Green', 'Red', 'Red'],\n",
       "       ['White', 'Green', 'Green', 'White', 'Red'],\n",
       "       ['Red', 'Red', 'Green', 'Green', 'Red'],\n",
       "       ['Red', 'Red', 'Red', 'Red', 'White'],\n",
       "       ['Green', 'Green', 'Green', 'White', 'White'],\n",
       "       ['Green', 'Green', 'Green', 'White', 'White'],\n",
       "       ['Red', 'Red', 'White', 'Red', 'Green'],\n",
       "       ['Green', 'Green', 'Green', 'Green', 'Green'],\n",
       "       ['Green', 'Green', 'Green', 'Green', 'Green'],\n",
       "       ['Green', 'Red', 'White', 'Red', 'Red'],\n",
       "       ['Green', 'Red', 'Green', 'Green', 'Red'],\n",
       "       ['Red', 'Red', 'Green', 'White', 'White'],\n",
       "       ['Red', 'White', 'Green', 'Green', 'Red'],\n",
       "       ['Green', 'Green', 'Green', 'Green', 'Red']], dtype='<U5')"
      ]
     },
     "execution_count": 14,
     "metadata": {},
     "output_type": "execute_result"
    }
   ],
   "source": [
    "# lanzamientos=1000 ya declarada\n",
    "muestreo = np.random.choice(ball_box, size=(lanzamientos,5), replace=True) \n",
    "conteo_W = np.sum(muestreo == 'White', axis = 1)\n",
    "conteo_R = np.sum(muestreo == 'Red', axis = 1)\n",
    "conteo_G = np.sum(muestreo == 'Green', axis = 1)\n",
    "muestreo\n"
   ]
  },
  {
   "cell_type": "markdown",
   "id": "adfad97d",
   "metadata": {},
   "source": [
    "# Declaración de condiciones"
   ]
  },
  {
   "cell_type": "code",
   "execution_count": 15,
   "id": "e41442da",
   "metadata": {},
   "outputs": [],
   "source": [
    "condition1 = (conteo_W == 3) & (conteo_R == 2)\n",
    "condition2 = (conteo_W == 5) | (conteo_R == 5) | (conteo_G == 5)"
   ]
  },
  {
   "cell_type": "markdown",
   "id": "ef1f0d62",
   "metadata": {},
   "source": [
    "# Comprobacion de conteos"
   ]
  },
  {
   "cell_type": "code",
   "execution_count": 16,
   "id": "c348cc68",
   "metadata": {},
   "outputs": [
    {
     "data": {
      "text/plain": [
       "array([1, 1, 1, 1, 1, 1, 1, 2, 1, 1, 1, 1, 3, 2, 1, 0, 1, 3, 0, 1, 1, 1,\n",
       "       0, 1, 0, 2, 1, 0, 1, 1, 0, 1, 0, 2, 2, 3, 1, 0, 2, 0, 0, 1, 0, 1,\n",
       "       1, 1, 0, 2, 2, 2, 0, 1, 1, 1, 0, 1, 2, 0, 1, 0, 2, 0, 0, 0, 2, 1,\n",
       "       2, 1, 1, 0, 1, 0, 0, 3, 1, 3, 1, 1, 0, 2, 1, 0, 1, 2, 0, 0, 0, 2,\n",
       "       0, 1, 2, 2, 1, 0, 0, 1, 0, 2, 1, 0])"
      ]
     },
     "execution_count": 16,
     "metadata": {},
     "output_type": "execute_result"
    }
   ],
   "source": [
    "conteo_W"
   ]
  },
  {
   "cell_type": "code",
   "execution_count": 17,
   "id": "a61a7fd0",
   "metadata": {},
   "outputs": [
    {
     "data": {
      "text/plain": [
       "array([0, 1, 3, 2, 1, 2, 2, 1, 2, 1, 2, 2, 1, 1, 3, 1, 1, 2, 1, 2, 2, 1,\n",
       "       1, 1, 3, 2, 2, 1, 2, 1, 3, 1, 3, 2, 0, 0, 2, 0, 1, 2, 3, 2, 1, 1,\n",
       "       2, 4, 3, 0, 2, 2, 3, 1, 2, 4, 1, 2, 0, 2, 2, 0, 2, 1, 3, 2, 1, 1,\n",
       "       0, 1, 1, 4, 1, 2, 4, 0, 3, 1, 2, 0, 3, 2, 1, 0, 1, 0, 3, 3, 3, 1,\n",
       "       3, 4, 0, 0, 3, 0, 0, 3, 2, 2, 2, 1])"
      ]
     },
     "execution_count": 17,
     "metadata": {},
     "output_type": "execute_result"
    }
   ],
   "source": [
    "conteo_R"
   ]
  },
  {
   "cell_type": "code",
   "execution_count": 18,
   "id": "13a2c02e",
   "metadata": {},
   "outputs": [
    {
     "data": {
      "text/plain": [
       "array([4, 3, 1, 2, 3, 2, 2, 2, 2, 3, 2, 2, 1, 2, 1, 4, 3, 0, 4, 2, 2, 3,\n",
       "       4, 3, 2, 1, 2, 4, 2, 3, 2, 3, 2, 1, 3, 2, 2, 5, 2, 3, 2, 2, 4, 3,\n",
       "       2, 0, 2, 3, 1, 1, 2, 3, 2, 0, 4, 2, 3, 3, 2, 5, 1, 4, 2, 3, 2, 3,\n",
       "       3, 3, 3, 1, 3, 3, 1, 2, 1, 1, 2, 4, 2, 1, 3, 5, 3, 3, 2, 2, 2, 2,\n",
       "       2, 0, 3, 3, 1, 5, 5, 1, 3, 1, 2, 4])"
      ]
     },
     "execution_count": 18,
     "metadata": {},
     "output_type": "execute_result"
    }
   ],
   "source": [
    "conteo_G"
   ]
  },
  {
   "cell_type": "markdown",
   "id": "7422f6df",
   "metadata": {},
   "source": [
    "# Calculo de probabilidades"
   ]
  },
  {
   "cell_type": "code",
   "execution_count": 19,
   "id": "4df14943",
   "metadata": {},
   "outputs": [
    {
     "data": {
      "text/plain": [
       "np.float64(0.01)"
      ]
     },
     "execution_count": 19,
     "metadata": {},
     "output_type": "execute_result"
    }
   ],
   "source": [
    "probabilidad_cond1 = np.sum(condition1) / lanzamientos\n",
    "probabilidad_cond1"
   ]
  },
  {
   "cell_type": "code",
   "execution_count": 20,
   "id": "8563f473",
   "metadata": {},
   "outputs": [
    {
     "data": {
      "text/plain": [
       "np.float64(0.05)"
      ]
     },
     "execution_count": 20,
     "metadata": {},
     "output_type": "execute_result"
    }
   ],
   "source": [
    "probabilidad_cond2 = np.sum(condition2) / lanzamientos\n",
    "probabilidad_cond2"
   ]
  }
 ],
 "metadata": {
  "kernelspec": {
   "display_name": "Python 3",
   "language": "python",
   "name": "python3"
  },
  "language_info": {
   "codemirror_mode": {
    "name": "ipython",
    "version": 3
   },
   "file_extension": ".py",
   "mimetype": "text/x-python",
   "name": "python",
   "nbconvert_exporter": "python",
   "pygments_lexer": "ipython3",
   "version": "3.11.4"
  }
 },
 "nbformat": 4,
 "nbformat_minor": 5
}
